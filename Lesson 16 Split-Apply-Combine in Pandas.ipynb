{
 "cells": [
  {
   "cell_type": "markdown",
   "metadata": {},
   "source": [
    "**SA433 &#x25aa; Data Wrangling and Visualization &#x25aa; Fall 2024**"
   ]
  },
  {
   "cell_type": "markdown",
   "metadata": {},
   "source": [
    "# Lesson 16. Split-Apply-Combine in Pandas"
   ]
  },
  {
   "cell_type": "markdown",
   "metadata": {},
   "source": [
    "## In this lesson..."
   ]
  },
  {
   "cell_type": "markdown",
   "metadata": {},
   "source": [
    "- One key task in data wrangling is to *split* our dataset into groups, *perform* a computation on each group, and *combine* the results"
   ]
  },
  {
   "cell_type": "markdown",
   "metadata": {},
   "source": [
    "- This is often referred to as the **split-apply-combine** paradigm:\n",
    "    * **Split** the data into groups based on some criteria\n",
    "    * **Apply** a function to each group independently\n",
    "    * **Combine** the results"
   ]
  },
  {
   "cell_type": "markdown",
   "metadata": {},
   "source": [
    "- The apply step might involve one of the following:\n",
    "    - aggregation\n",
    "    - transformation\n",
    "    - filtration"
   ]
  },
  {
   "cell_type": "markdown",
   "metadata": {},
   "source": [
    "- Let's see how this works"
   ]
  },
  {
   "cell_type": "markdown",
   "metadata": {},
   "source": [
    "<hr style=\"border-top: 2px solid gray; margin-top: 1px; margin-bottom: 1px\"></hr>"
   ]
  },
  {
   "cell_type": "markdown",
   "metadata": {},
   "source": [
    "## Setup"
   ]
  },
  {
   "cell_type": "markdown",
   "metadata": {},
   "source": [
    "* Let's start by importing Pandas:"
   ]
  },
  {
   "cell_type": "code",
   "execution_count": null,
   "metadata": {},
   "outputs": [],
   "source": [
    "import pandas as pd"
   ]
  },
  {
   "cell_type": "markdown",
   "metadata": {},
   "source": [
    "* We'll use the nycflights13 dataset that we used in previous lessons, containing data on all flights outbound from NYC airports in 2013\n",
    "\n",
    "\n",
    "* This data is located in `data/nycflights13_flights.csv.zip`, in the same folder as this notebook:"
   ]
  },
  {
   "cell_type": "code",
   "execution_count": null,
   "metadata": {},
   "outputs": [],
   "source": [
    "df = pd.read_csv('data/nycflights13_flights.csv.zip')"
   ]
  },
  {
   "cell_type": "markdown",
   "metadata": {},
   "source": [
    "* Just to remind ourselves what this dataset looks like:"
   ]
  },
  {
   "cell_type": "code",
   "execution_count": null,
   "metadata": {},
   "outputs": [],
   "source": [
    "df.head()"
   ]
  },
  {
   "cell_type": "markdown",
   "metadata": {},
   "source": [
    "<hr style=\"border-top: 2px solid gray; margin-top: 1px; margin-bottom: 1px\"></hr>"
   ]
  },
  {
   "cell_type": "markdown",
   "metadata": {},
   "source": [
    "## Aggregation"
   ]
  },
  {
   "cell_type": "markdown",
   "metadata": {},
   "source": [
    "- **Aggregation** involves computing a summary statistic for each group of observations\n",
    "\n",
    "\n",
    "- Visually:\n",
    "\n",
    "<img src=\"img/aggregation.jpg\" width=\"800\"/>\n",
    "\n",
    "\n",
    "- To make this concrete, let's work on an example with the nycflights13 dataset\n",
    "\n",
    "\n",
    "- Suppose we want to explore the relationship between the distance traveled and arrival delay for each destination\n",
    "\n",
    "\n",
    "- We can do the following:\n",
    "    1. Group flights by destination\n",
    "    2. Compute average distance, average arrival delay, and number of flights for each destination\n",
    "    3. Filter to remove noise: only keep values for destinations with 20 or more flights, remove Honolulu"
   ]
  },
  {
   "cell_type": "code",
   "execution_count": null,
   "metadata": {},
   "outputs": [],
   "source": []
  },
  {
   "cell_type": "markdown",
   "metadata": {},
   "source": [
    "- *Quick aside.* Note that `.head(n)` returns the top `n` rows of a DataFrame\n",
    "    - By default, `.head()` returns the top 5 rows"
   ]
  },
  {
   "cell_type": "markdown",
   "metadata": {},
   "source": [
    "- Let's walk through this code, step-by-step\n",
    "\n",
    "\n",
    "- First, `.groupby(['dest'])` *splits* the DataFrame `df` into groups of rows, according to the row's value of `dest`"
   ]
  },
  {
   "cell_type": "markdown",
   "metadata": {},
   "source": [
    "- Next, `.agg(...)` *applies* various functions to each group independently\n",
    "\n",
    "    - The keyword argument\n",
    "    \n",
    "        ```python\n",
    "        avg_distance=('distance', 'mean')\n",
    "\n",
    "        ```\n",
    "        \n",
    "        <br>outputs a variable called `avg_distance`, which is equal to the Pandas built-in function `mean` applied to the column `distance` *in each group*\n",
    "        \n",
    "    - The other keyword arguments above work in a similar fashion\n",
    "    "
   ]
  },
  {
   "cell_type": "markdown",
   "metadata": {},
   "source": [
    "    \n",
    "- `.agg(...)` then takes the output from each group and *combines* them into a single output DataFrame, where the index is equal to the variables specified in `.groupby(...)`"
   ]
  },
  {
   "cell_type": "markdown",
   "metadata": {},
   "source": [
    "- `.reset_index()` converts the existing index into ordinary columns, and resets the index of the DataFrame to the default one (consecutive integers)\n",
    "    - This is often desired when performing additional wrangling or analysis steps"
   ]
  },
  {
   "cell_type": "markdown",
   "metadata": {},
   "source": [
    "- `.query('(n_flights > 20) and (dest != \"HNL\")')` filters the rows of the output DataFrame"
   ]
  },
  {
   "cell_type": "markdown",
   "metadata": {},
   "source": [
    "- **Basic template for aggregation:**\n",
    "\n",
    "    ```python\n",
    "    summarized_df = (\n",
    "        df\n",
    "        .groupby(list_of_variables)\n",
    "        .agg(\n",
    "            new_variable1=('variable1', 'aggregation function'),\n",
    "            new_variable2=('variable2', 'aggregation function'),\n",
    "            ...\n",
    "        )\n",
    "        .reset_index()\n",
    "        ...\n",
    "    )\n",
    "    ```"
   ]
  },
  {
   "cell_type": "markdown",
   "metadata": {},
   "source": [
    "- Here are some common aggregation functions\n",
    "    - Note that many of them are *reduction methods* from Lesson 15\n",
    "    \n",
    "    \n",
    "| Method | Description |\n",
    "| :- | :- |\n",
    "| `count` | Number of non-NA values |\n",
    "| `first` | First value in group |\n",
    "| `last` | Last value in group |\n",
    "| `nunique` | Number of unique values |\n",
    "| `min`, `max` | Minimum and maximum values |\n",
    "| `sum` | Sum of values |\n",
    "| `mean` | Mean of values |\n",
    "| `median` | Median of values |\n",
    "| `mad` | Mean absolute deviation from mean value |\n",
    "| `prod` | Product of all values |\n",
    "| `var` | Sample variance of values |\n",
    "| `std` | Sample standard deivation of values |"
   ]
  },
  {
   "cell_type": "markdown",
   "metadata": {},
   "source": [
    "- Instead of the `'aggregation function'` string, you can pass a function itself\n",
    "\n",
    "    - For example, instead of `('variable1', 'sum')`, you could use<br><br>\n",
    "    \n",
    "        ```python\n",
    "        ('variable1', lambda s: s.sum())\n",
    "        ```\n",
    "        \n",
    "        <br>where `s` refers to the `variable1` column/Series of an *individual group* "
   ]
  },
  {
   "cell_type": "markdown",
   "metadata": {},
   "source": [
    "- *Note.* This method of using `.agg()` is called *named aggregation*\n",
    "    - There are a few other ways of using `.agg()`\n",
    "    - See the [documentation](https://pandas.pydata.org/pandas-docs/stable/user_guide/groupby.html#aggregation) for details"
   ]
  },
  {
   "cell_type": "markdown",
   "metadata": {},
   "source": [
    "<hr style=\"border-top: 2px solid gray; margin-top: 1px; margin-bottom: 1px\"></hr>"
   ]
  },
  {
   "cell_type": "markdown",
   "metadata": {},
   "source": [
    "## Grouping by multiple variables"
   ]
  },
  {
   "cell_type": "markdown",
   "metadata": {},
   "source": [
    "- We can split a DataFrame into groups based on the values of *multiple* variables\n",
    "\n",
    "\n",
    "- For example, we can compute the number of flights on each day like this:"
   ]
  },
  {
   "cell_type": "code",
   "execution_count": null,
   "metadata": {},
   "outputs": [],
   "source": []
  },
  {
   "cell_type": "markdown",
   "metadata": {},
   "source": [
    "<hr style=\"border-top: 2px solid gray; margin-top: 1px; margin-bottom: 1px\"></hr>"
   ]
  },
  {
   "cell_type": "markdown",
   "metadata": {},
   "source": [
    "## Transformation"
   ]
  },
  {
   "cell_type": "markdown",
   "metadata": {},
   "source": [
    "- **Transformation** involves performing a computation on each group, and returning objects that are the same size as each group, with the same index\n",
    "\n",
    "\n",
    "- Visually:\n",
    "\n",
    "<img src=\"img/transformation.jpg\" width=\"800\"/>\n",
    "\n",
    "\n",
    "- Transformation usually involves a \"same size\" method like we described in Lesson 15\n",
    "\n",
    "\n",
    "- For example, recall that `.rank()` is a \"same size\" method that computes numerical ranks (for example, 1 = highest, 2 = second highest, etc.)\n",
    "\n",
    "\n",
    "- For each day of the year, we can compute the rank of each flight according to its arrival delay, from highest (rank = 1) to lowest, like this:"
   ]
  },
  {
   "cell_type": "code",
   "execution_count": null,
   "metadata": {},
   "outputs": [],
   "source": []
  },
  {
   "cell_type": "markdown",
   "metadata": {},
   "source": [
    "<br>❓ **Exercise 1.** The first flight (with index 0) has the 296.5th highest arrival delay among all flights on the same day. What do you think a fractional rank means? \n",
    "*Hint.* [Here's the documentation for `.rank()`.](https://pandas.pydata.org/docs/reference/api/pandas.Series.rank.html)"
   ]
  },
  {
   "cell_type": "markdown",
   "metadata": {},
   "source": [
    "*Write your notes here. Double-click to edit.*"
   ]
  },
  {
   "cell_type": "markdown",
   "metadata": {},
   "source": [
    "- Let's walk through this code step-by-step\n",
    "\n",
    "\n",
    "- `.groupby(['year', 'month', 'day'])` splits the DataFrame `df` into groups of rows, according to the combination of values of `year`, `month`, and `day`\n",
    "\n",
    "\n",
    "- `['arr_delay']` then selects the `arr_delay` column/Series\n",
    "\n",
    "\n",
    "- `.transform(...)` then takes the `arr_delay` Series *from each group* and applies the lambda function to it"
   ]
  },
  {
   "cell_type": "markdown",
   "metadata": {},
   "source": [
    "- In `lambda s: s.rank(ascending=False)`:\n",
    "    - `s` represents the `arr_delay` column/Series from each group\n",
    "    - The lambda function outputs the numerical rank for each value in the Series, with the highest value having rank 1"
   ]
  },
  {
   "cell_type": "markdown",
   "metadata": {},
   "source": [
    "- We can use the `.assign()` method to add these numerical ranks to our original DataFrame, like this:"
   ]
  },
  {
   "cell_type": "code",
   "execution_count": null,
   "metadata": {},
   "outputs": [],
   "source": []
  },
  {
   "cell_type": "markdown",
   "metadata": {},
   "source": [
    "❓ **Exercise 2.** Let's pick a random day of the year and check our work.\n",
    "Filter the observations for all flights on June 12, 2013, and sort them in descending order of arrival delay. Display the top 10 flights. Do their values of `daily_arr_delay_rank` make sense?"
   ]
  },
  {
   "cell_type": "code",
   "execution_count": null,
   "metadata": {},
   "outputs": [],
   "source": []
  },
  {
   "cell_type": "markdown",
   "metadata": {},
   "source": [
    "* **Basic template for transformation:**\n",
    "\n",
    "    ```python\n",
    "    df_with_transformed_column = df.assign(\n",
    "        new_variable=lambda x: \n",
    "            x.groupby(list_of_variables)\n",
    "            ['variable']\n",
    "            .transform(lambda s: s.same_size_method(...))\n",
    "    )\n",
    "    ```\n",
    "    \n",
    "    <br>where `x` refers to `df`, and `s` refers to `x['variable']`"
   ]
  },
  {
   "cell_type": "markdown",
   "metadata": {},
   "source": [
    "<hr style=\"border-top: 2px solid gray; margin-top: 1px; margin-bottom: 1px\"></hr>"
   ]
  },
  {
   "cell_type": "markdown",
   "metadata": {},
   "source": [
    "## Filtration"
   ]
  },
  {
   "cell_type": "markdown",
   "metadata": {},
   "source": [
    "- **Filtration** allows us to keep or discard some groups based on a group-wise computation that evaluates to `True` or `False`\n",
    "\n",
    "\n",
    "- Visually:\n",
    "\n",
    "<img src=\"img/filtration.jpg\" width=\"800\"/>\n",
    "\n",
    "\n",
    "- For example, we can keep all flights to destination airports with 10,000 or more total flights, like this:"
   ]
  },
  {
   "cell_type": "code",
   "execution_count": null,
   "metadata": {},
   "outputs": [],
   "source": []
  },
  {
   "cell_type": "markdown",
   "metadata": {},
   "source": [
    "- How does this code work?\n",
    "\n",
    "\n",
    "- First, `.groupby(['dest'])` splits the DataFrame `df` into groups of rows, according to the row's value of `dest`\n",
    "\n",
    "\n",
    "- Then, `.filter(...)` takes a function that, when applied to the group as a whole, returns True or False"
   ]
  },
  {
   "cell_type": "markdown",
   "metadata": {},
   "source": [
    "- In `lambda x: x['flight'].count() > 10000`:\n",
    "    - `x` represents a single group\n",
    "    - `x['flight'].count()` counts the non-NA values in the `flight` column of each group `x`"
   ]
  },
  {
   "cell_type": "markdown",
   "metadata": {},
   "source": [
    "❓ **Exercise 3.** Let's check our work. Using the techniques from the *Aggregation* section above, count the number of flights to each destination in `busy_dest_df`. Does what you see make sense?"
   ]
  },
  {
   "cell_type": "code",
   "execution_count": null,
   "metadata": {},
   "outputs": [],
   "source": []
  },
  {
   "cell_type": "markdown",
   "metadata": {},
   "source": [
    "* **Basic template for filtration:**\n",
    "\n",
    "    ```python\n",
    "    filtered_df = (\n",
    "        df\n",
    "        .groupby(list_of_variables)\n",
    "        .filter(lambda x: expression that evaluates to True or False)\n",
    "    )\n",
    "    ```\n",
    "    \n",
    "    <br>where `x` refers to `df`"
   ]
  },
  {
   "cell_type": "markdown",
   "metadata": {},
   "source": [
    "<hr style=\"border-top: 2px solid gray; margin-top: 1px; margin-bottom: 1px\"></hr>"
   ]
  },
  {
   "cell_type": "markdown",
   "metadata": {},
   "source": [
    "## Related tips and tricks"
   ]
  },
  {
   "cell_type": "markdown",
   "metadata": {},
   "source": [
    "### Aggregation on the entire DataFrame "
   ]
  },
  {
   "cell_type": "markdown",
   "metadata": {},
   "source": [
    "- As we've seen above, the split-apply-combine paradigm gives us a nice, standard template for computing summary statistics for groups of observations in a DataFrame (i.e., aggregation)\n",
    "\n",
    "\n",
    "- We can also use the same template for computing summary statistics for *all* the observations in a DataFrame \n",
    "\n",
    "\n",
    "- Suppose we want the average, median, minimum, and maximum arrival delay across all flights in 2013\n",
    "\n",
    "\n",
    "- We can do so like this:"
   ]
  },
  {
   "cell_type": "code",
   "execution_count": null,
   "metadata": {},
   "outputs": [],
   "source": []
  },
  {
   "cell_type": "markdown",
   "metadata": {},
   "source": [
    "- A few variations from the standard aggregation template...\n",
    "\n",
    "\n",
    "- We give `.groupby()` the argument `lambda r: True` to put all the rows into one group "
   ]
  },
  {
   "cell_type": "markdown",
   "metadata": {},
   "source": [
    "- Why does this work? \n",
    "    - `.groupby()` can take a function `lambda r: ...` as an argument, where `r` represents a row index\n",
    "    - When given such an argument, `.groupby()` forms groups according to the output values of this lambda function\n",
    "    - In the code above, *every* row index returns the value `True`, so every row gets put into the same group "
   ]
  },
  {
   "cell_type": "markdown",
   "metadata": {},
   "source": [
    "- We also use `drop=True` in `.reset_index()`, since we don't need the name of the group in this case"
   ]
  },
  {
   "cell_type": "markdown",
   "metadata": {},
   "source": [
    "### Counting unique values and `.value_counts()`"
   ]
  },
  {
   "cell_type": "markdown",
   "metadata": {},
   "source": [
    "- We can use the above techniques to count the unique values in a particular column\n",
    "\n",
    "\n",
    "- For example, we can count the number of flights by each airline like this:"
   ]
  },
  {
   "cell_type": "code",
   "execution_count": null,
   "metadata": {},
   "outputs": [],
   "source": []
  },
  {
   "cell_type": "markdown",
   "metadata": {},
   "source": [
    "- You can also get a similar table of counts using the `.value_counts()` method, like this:"
   ]
  },
  {
   "cell_type": "code",
   "execution_count": null,
   "metadata": {},
   "outputs": [],
   "source": []
  },
  {
   "cell_type": "markdown",
   "metadata": {},
   "source": [
    "- Using `.value_counts()` can be quick and convenient when all you need is to count the number of unique values in a column/Series\n",
    "\n",
    "\n",
    "- If you need additional summary statistics, the standard aggregation template using `.groupby(...).agg(...)` may be easier to use"
   ]
  },
  {
   "cell_type": "markdown",
   "metadata": {},
   "source": [
    "<hr style=\"border-top: 2px solid gray; margin-top: 1px; margin-bottom: 1px\"></hr>"
   ]
  },
  {
   "cell_type": "markdown",
   "metadata": {},
   "source": [
    "## Problems"
   ]
  },
  {
   "cell_type": "markdown",
   "metadata": {},
   "source": [
    "For the problems below, use the nycflights13 dataset that we used in this lesson."
   ]
  },
  {
   "cell_type": "markdown",
   "metadata": {},
   "source": [
    "### Problem 1"
   ]
  },
  {
   "cell_type": "markdown",
   "metadata": {},
   "source": [
    "What time of day should you fly if you want to avoid delays as much as possible? Compute the average departure and arrival delays for each hour of the day."
   ]
  },
  {
   "cell_type": "code",
   "execution_count": null,
   "metadata": {},
   "outputs": [],
   "source": []
  },
  {
   "cell_type": "markdown",
   "metadata": {},
   "source": [
    "### Problem 2"
   ]
  },
  {
   "cell_type": "markdown",
   "metadata": {},
   "source": [
    "Assume that flights with missing arrival delays correspond to cancelled flights. Compute the number of cancelled flights for each month.\n",
    "\n",
    "*Hint.* Use `.query()` to narrow down the dataset to rows corresponding to cancelled flights."
   ]
  },
  {
   "cell_type": "code",
   "execution_count": null,
   "metadata": {},
   "outputs": [],
   "source": []
  },
  {
   "cell_type": "markdown",
   "metadata": {},
   "source": [
    "### Problem 3"
   ]
  },
  {
   "cell_type": "markdown",
   "metadata": {},
   "source": [
    "Which major carrier has the worst delays? Compute the average arrival delay for each carrier that has more than 10,000 flights in 2013. Sort them from highest to lowest average arrival delay."
   ]
  },
  {
   "cell_type": "code",
   "execution_count": null,
   "metadata": {},
   "outputs": [],
   "source": []
  },
  {
   "cell_type": "markdown",
   "metadata": {},
   "source": [
    "### Problem 4"
   ]
  },
  {
   "cell_type": "markdown",
   "metadata": {},
   "source": [
    "Perhaps it's a better idea to compare the average arrival delay between carriers on the same route.\n",
    "\n",
    "Focus on routes from a NYC airport (EWR, JFK, LGA) to either Atlanta (ATL) or Chicago O'Hare (ORD). For each route, find the carrier with the highest average arrival delay.\n",
    "\n",
    "*Hint.* Use `.agg()`, sort the resulting values, and then use `.agg()` again."
   ]
  },
  {
   "cell_type": "code",
   "execution_count": null,
   "metadata": {},
   "outputs": [],
   "source": []
  },
  {
   "cell_type": "markdown",
   "metadata": {},
   "source": [
    "### Problem 5"
   ]
  },
  {
   "cell_type": "markdown",
   "metadata": {},
   "source": [
    "How often does a plane (tail number) leave on time? For each plane, compute the fraction of flights it leaves on time.\n",
    "\n",
    "_Hint._ Define a function `on_time(delay)` that takes the delay as input, and outputs 1 if the delay is nonpositive (the flight is on time), and 0 otherwise. Use this function with `.map()` &ndash; see Lesson 15 for details. "
   ]
  },
  {
   "cell_type": "code",
   "execution_count": null,
   "metadata": {},
   "outputs": [],
   "source": []
  },
  {
   "cell_type": "markdown",
   "metadata": {
    "tags": []
   },
   "source": [
    "### Problem 6"
   ]
  },
  {
   "cell_type": "markdown",
   "metadata": {},
   "source": [
    "For each plane (tail number), compute its cumulative departure delay over each day in 2013 that it departed from a NYC airport.\n",
    "\n",
    "*Hint.* First, remove all flights with missing departure delays."
   ]
  },
  {
   "cell_type": "code",
   "execution_count": null,
   "metadata": {},
   "outputs": [],
   "source": []
  },
  {
   "cell_type": "markdown",
   "metadata": {},
   "source": [
    "<hr style=\"border-top: 2px solid gray; margin-top: 1px; margin-bottom: 1px\"></hr>"
   ]
  },
  {
   "cell_type": "markdown",
   "metadata": {},
   "source": [
    "## Notes and sources"
   ]
  },
  {
   "cell_type": "markdown",
   "metadata": {},
   "source": [
    "- From the [Pandas User Guide](https://pandas.pydata.org/docs/user_guide/index.html):\n",
    "    - [Group by: split-apply-combine](https://pandas.pydata.org/pandas-docs/stable/user_guide/groupby.html)"
   ]
  },
  {
   "cell_type": "markdown",
   "metadata": {
    "editable": true,
    "slideshow": {
     "slide_type": ""
    },
    "tags": []
   },
   "source": [
    "- Lesson and problems inspired by Chapter 5 of [R for Data Science](https://r4ds.had.co.nz/)"
   ]
  }
 ],
 "metadata": {
  "kernelspec": {
   "display_name": "Python 3 (ipykernel)",
   "language": "python",
   "name": "python3"
  },
  "language_info": {
   "codemirror_mode": {
    "name": "ipython",
    "version": 3
   },
   "file_extension": ".py",
   "mimetype": "text/x-python",
   "name": "python",
   "nbconvert_exporter": "python",
   "pygments_lexer": "ipython3",
   "version": "3.11.3"
  }
 },
 "nbformat": 4,
 "nbformat_minor": 4
}
